{
 "cells": [
  {
   "cell_type": "code",
   "execution_count": 1,
   "id": "d10fba72-52ba-4585-a47f-5c85ff431678",
   "metadata": {},
   "outputs": [],
   "source": [
    "#  Q1. What is multiprocessing in python? Why is it useful?\n",
    "\n",
    "# Ans:- multiprocessing is a package that supports spawning processes using an API similar to the threading module\n",
    "#  Multiprocessing is useful for CPU-bound processes, such as computationally heavy tasks since it will benefit from having multiple processors."
   ]
  },
  {
   "cell_type": "code",
   "execution_count": 2,
   "id": "3e6d6371-f113-4ac3-98a1-0f92eaaa946e",
   "metadata": {},
   "outputs": [],
   "source": [
    "#  Q2. What are the differences between multiprocessing and multithreading?\n",
    "#  Ans: Multiprocessing uses two or more CPUs to increase computing power, whereas multithreading uses a single process with multiple code segments to increase computing power. Multithreading focuses on generating computing threads from a single process, whereas multiprocessing increases computing power by adding CPUs."
   ]
  },
  {
   "cell_type": "code",
   "execution_count": 8,
   "id": "fecc760d-2d51-407a-ba79-fb31f21bf567",
   "metadata": {
    "tags": []
   },
   "outputs": [
    {
     "name": "stdout",
     "output_type": "stream",
     "text": [
      "square:100\n",
      "cube: 1000\n"
     ]
    },
    {
     "ename": "NameError",
     "evalue": "name 'p1' is not defined",
     "output_type": "error",
     "traceback": [
      "\u001b[0;31m---------------------------------------------------------------------------\u001b[0m",
      "\u001b[0;31mNameError\u001b[0m                                 Traceback (most recent call last)",
      "Cell \u001b[0;32mIn[8], line 17\u001b[0m\n\u001b[1;32m     13\u001b[0m s1\u001b[38;5;241m.\u001b[39mstart()\n\u001b[1;32m     15\u001b[0m s2\u001b[38;5;241m.\u001b[39mstart()\n\u001b[0;32m---> 17\u001b[0m \u001b[43mp1\u001b[49m\u001b[38;5;241m.\u001b[39mjoin()\n\u001b[1;32m     19\u001b[0m p2\u001b[38;5;241m.\u001b[39mjoin()\n\u001b[1;32m     21\u001b[0m \u001b[38;5;28mprint\u001b[39m(\u001b[38;5;124m\"\u001b[39m\u001b[38;5;124mdone\u001b[39m\u001b[38;5;124m\"\u001b[39m)\n",
      "\u001b[0;31mNameError\u001b[0m: name 'p1' is not defined"
     ]
    }
   ],
   "source": [
    "import multiprocessing\n",
    "def print_cube(num):\n",
    "    print(\"cube: {}\" .format(num*num*num))\n",
    "\n",
    "def print_square(num):\n",
    "    print(\"square:{}\" .format(num*num))\n",
    "\n",
    "if __name__==\"__main__\":\n",
    "    s1 = multiprocessing.Process(target = print_square, args=(10, ))\n",
    "    s2 = multiprocessing.Process(target = print_cube, args=(10, ))\n",
    "    \n",
    "    \n",
    "    s1.start()\n",
    "    \n",
    "    s2.start()\n",
    "    \n",
    "    p1.join()\n",
    "    \n",
    "    p2.join()\n",
    "    \n",
    "    print(\"done\")\n",
    "     \n",
    "\n",
    "    \n",
    "\n",
    "\n",
    "    \n",
    "          \n",
    "        "
   ]
  },
  {
   "cell_type": "code",
   "execution_count": null,
   "id": "38030134-1532-4c47-bb57-d20dbb1ba735",
   "metadata": {},
   "outputs": [],
   "source": []
  }
 ],
 "metadata": {
  "kernelspec": {
   "display_name": "Python 3 (ipykernel)",
   "language": "python",
   "name": "python3"
  },
  "language_info": {
   "codemirror_mode": {
    "name": "ipython",
    "version": 3
   },
   "file_extension": ".py",
   "mimetype": "text/x-python",
   "name": "python",
   "nbconvert_exporter": "python",
   "pygments_lexer": "ipython3",
   "version": "3.10.8"
  }
 },
 "nbformat": 4,
 "nbformat_minor": 5
}
